{
 "cells": [
  {
   "cell_type": "code",
   "execution_count": 1,
   "metadata": {},
   "outputs": [],
   "source": [
    "import random"
   ]
  },
  {
   "cell_type": "code",
   "execution_count": 4,
   "metadata": {},
   "outputs": [
    {
     "name": "stdout",
     "output_type": "stream",
     "text": [
      "************** Number of guesses is limited to only 5 times **************\n",
      "Guess the Number : 78\n",
      "You Entered less number,Please input greater number\n",
      "4  number of guesses left\n",
      "Guess the Number : 80\n",
      "You Entered less number,Please input greater number\n",
      "3  number of guesses left\n",
      "Guess the Number : 85\n",
      "You Entered greater number,Please input smaller number\n",
      "2  number of guesses left\n",
      "Guess the Number : 82\n",
      "You Entered greater number,Please input smaller number\n",
      "1  number of guesses left\n",
      "Guess the Number : 79\n",
      "You Entered less number,Please input greater number\n",
      "0  number of guesses left\n",
      "Better Luck Next Time !!!!!\n",
      "Game Over !!!!!\n",
      "System's Number was :  81\n"
     ]
    }
   ],
   "source": [
    "n = random.randint(1,100)\n",
    "Number_of_guesses = 1\n",
    "print(\"************** Number of guesses is limited to only 5 times **************\")\n",
    "while (Number_of_guesses <= 5 ):\n",
    "    Guess_number = int(input(\"Guess the Number : \"))\n",
    "    if Guess_number < n:\n",
    "        print(\"You Entered less number,Please input greater number\")\n",
    "    elif Guess_number > n:\n",
    "        print(\"You Entered greater number,Please input smaller number\")\n",
    "    else:\n",
    "        print(\"You Won !!!!!\")\n",
    "        print(Number_of_guesses , \" number of guesses You took to finish\")\n",
    "        break\n",
    "    print(5 - Number_of_guesses,\" number of guesses left\")\n",
    "    Number_of_guesses = Number_of_guesses + 1\n",
    "    if Number_of_guesses > 5:\n",
    "        print(\"Better Luck Next Time !!!!!\")\n",
    "        print(\"Game Over !!!!!\")\n",
    "        print(\"System's Number was : \",n)"
   ]
  },
  {
   "cell_type": "code",
   "execution_count": null,
   "metadata": {},
   "outputs": [],
   "source": []
  }
 ],
 "metadata": {
  "kernelspec": {
   "display_name": "Python 3",
   "language": "python",
   "name": "python3"
  },
  "language_info": {
   "codemirror_mode": {
    "name": "ipython",
    "version": 3
   },
   "file_extension": ".py",
   "mimetype": "text/x-python",
   "name": "python",
   "nbconvert_exporter": "python",
   "pygments_lexer": "ipython3",
   "version": "3.8.5"
  }
 },
 "nbformat": 4,
 "nbformat_minor": 4
}
